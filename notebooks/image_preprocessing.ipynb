{
 "metadata": {
  "language_info": {
   "codemirror_mode": {
    "name": "ipython",
    "version": 3
   },
   "file_extension": ".py",
   "mimetype": "text/x-python",
   "name": "python",
   "nbconvert_exporter": "python",
   "pygments_lexer": "ipython3",
   "version": "3.8.5"
  },
  "orig_nbformat": 2,
  "kernelspec": {
   "name": "python3",
   "display_name": "Python 3.8.5 64-bit ('dissertation_env': venv)"
  },
  "metadata": {
   "interpreter": {
    "hash": "2dfa177d6029310be2c029eab4ad384f335e78e186afc5f95ea81916792f7ac4"
   }
  },
  "interpreter": {
   "hash": "2dfa177d6029310be2c029eab4ad384f335e78e186afc5f95ea81916792f7ac4"
  }
 },
 "nbformat": 4,
 "nbformat_minor": 2,
 "cells": [
  {
   "cell_type": "markdown",
   "source": [
    "# Image data preprocessing\n",
    "https://keras.io/api/preprocessing/image/"
   ],
   "metadata": {
    "tags": []
   }
  },
  {
   "cell_type": "code",
   "execution_count": null,
   "source": [
    "import numpy as np\n",
    "import pandas as pd \n",
    "import seaborn as sns\n",
    "import matplotlib.pyplot as plt\n",
    "from PIL import Image\n",
    "from glob import glob\n",
    "import os\n",
    "# import random\n",
    "import cv2\n",
    "import sys\n",
    "\n",
    "sys.path.insert(1, '../src')\n",
    "import app_constants as const\n",
    "\n",
    "#Model\n",
    "from keras.preprocessing.image import ImageDataGenerator,array_to_img, img_to_array, load_img"
   ],
   "outputs": [],
   "metadata": {}
  },
  {
   "cell_type": "code",
   "execution_count": null,
   "source": [
    "# https://keras.io/api/preprocessing/image/#imagedatagenerator-class\n",
    "\n",
    "datagen = ImageDataGenerator(rotation_range=5, \n",
    "                            width_shift_range=0.1, \n",
    "                            height_shift_range=0.1,\n",
    "                            shear_range=0.15,\n",
    "                            # fill_mode = 'nearest',\n",
    "                            horizontal_flip=True)"
   ],
   "outputs": [],
   "metadata": {}
  },
  {
   "cell_type": "code",
   "execution_count": null,
   "source": [
    "for img in os.listdir(const.PNEUMONIA_DIR):\n",
    "    img_path = os.path.join(const.PNEUMONIA_DIR,img)\n",
    "    img = load_img(img_path)  \n",
    "    x = img_to_array(img) \n",
    "    # Reshape the input image \n",
    "    x = x.reshape((1, ) + x.shape)\n",
    "    i = 0\n",
    "\n",
    "    # generate 5 new augmented images \n",
    "    for batch in datagen.flow(x, batch_size = 1, \n",
    "                      save_to_dir = const.PNEUMONIA_AUG_DIR,  \n",
    "                      save_prefix ='aug', save_format ='png'):\n",
    "        i += 1\n",
    "        if i > 5: \n",
    "            break"
   ],
   "outputs": [],
   "metadata": {}
  },
  {
   "cell_type": "code",
   "execution_count": null,
   "source": [
    "xrays_dict = {os.path.splitext(os.path.basename(x))[0]: x for x in glob(os.path.join(const.DATA_DIR, '*','*.png'))}\n",
    "\n",
    "xrays_df = pd.DataFrame.from_dict(xrays_dict, orient = 'index').reset_index()\n",
    "xrays_df.columns = ['id', 'path']\n",
    "labels = xrays_df.id.str.split('-').str[0]\n",
    "xrays_df['label'] = labels\n",
    "xrays_df[\"category\"] = xrays_df[\"label\"].map(const.CATEGORY.get) \n",
    "print(xrays_df.shape)"
   ],
   "outputs": [],
   "metadata": {}
  },
  {
   "cell_type": "code",
   "execution_count": null,
   "source": [
    "xrays_df['image'] = xrays_df['path'].map(lambda x: np.asarray(Image.open(x).resize((const.IMAGE_SIZE,const.IMAGE_SIZE))))"
   ],
   "outputs": [],
   "metadata": {}
  },
  {
   "cell_type": "code",
   "execution_count": null,
   "source": [
    "xrays_df['label'].value_counts().plot.bar(color=[\"green\",\"red\", \"orange\"])"
   ],
   "outputs": [],
   "metadata": {}
  }
 ]
}