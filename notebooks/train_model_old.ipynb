{
 "metadata": {
  "language_info": {
   "codemirror_mode": {
    "name": "ipython",
    "version": 3
   },
   "file_extension": ".py",
   "mimetype": "text/x-python",
   "name": "python",
   "nbconvert_exporter": "python",
   "pygments_lexer": "ipython3",
   "version": "3.8.5"
  },
  "orig_nbformat": 2,
  "kernelspec": {
   "name": "python3",
   "display_name": "Python 3.8.5 64-bit ('dissertation_env': venv)"
  },
  "metadata": {
   "interpreter": {
    "hash": "2dfa177d6029310be2c029eab4ad384f335e78e186afc5f95ea81916792f7ac4"
   }
  },
  "interpreter": {
   "hash": "2dfa177d6029310be2c029eab4ad384f335e78e186afc5f95ea81916792f7ac4"
  }
 },
 "nbformat": 4,
 "nbformat_minor": 2,
 "cells": [
  {
   "cell_type": "markdown",
   "source": [
    "# Training the CNN model"
   ],
   "metadata": {}
  },
  {
   "cell_type": "code",
   "execution_count": 2,
   "source": [
    "sys.path.insert(1, '../src')\n",
    "import app_constants as const\n",
    "import matplotlib.pyplot as plt\n",
    "import numpy as np\n",
    "\n",
    "#Model\n",
    "import keras\n",
    "from keras.models import Sequential, Model,load_model\n",
    "from keras.layers import Activation,Dense, Dropout, Flatten, Conv2D, MaxPooling2D,MaxPool2D,AveragePooling2D,GlobalMaxPooling2D, Input\n",
    "from keras.applications.vgg16 import VGG16\n",
    "from keras import backend as K\n",
    "from keras.wrappers.scikit_learn import KerasClassifier\n",
    "from keras.layers.normalization import BatchNormalization\n",
    "from keras.utils.np_utils import to_categorical # convert to one-hot-encoding\n",
    "from keras import regularizers\n",
    "from keras.optimizers import Adam, SGD\n",
    "from keras.preprocessing.image import ImageDataGenerator,array_to_img\n",
    "from keras.callbacks import ReduceLROnPlateau, EarlyStopping,ModelCheckpoint\n",
    "from keras.metrics import PrecisionAtRecall,Recall \n",
    "#Model Analysis\n",
    "from sklearn.metrics import confusion_matrix"
   ],
   "outputs": [],
   "metadata": {}
  },
  {
   "cell_type": "code",
   "execution_count": 8,
   "source": [
    "#provides easy way to transform images.\n",
    "image_generator = ImageDataGenerator(rescale=1/255, validation_split=0.2)    \n",
    "\n",
    "train_dataset = image_generator.flow_from_directory(\n",
    "                                                 directory=const.DATA_DIR,\n",
    "                                                 shuffle=True,\n",
    "                                                 target_size=(256, 256), \n",
    "                                                 batch_size=32,\n",
    "                                                 subset=\"training\",\n",
    "                                                 class_mode='categorical',\n",
    "                                                 classes=const.LABELS,\n",
    "                                                 color_mode=\"grayscale\")\n",
    "\n",
    "valid_dataset = image_generator.flow_from_directory(\n",
    "                                                 directory=const.DATA_DIR,\n",
    "                                                 shuffle=True,\n",
    "                                                 target_size=(256, 256), \n",
    "                                                 batch_size=32,\n",
    "                                                 subset=\"validation\",\n",
    "                                                 class_mode='categorical',\n",
    "                                                 classes=const.LABELS,\n",
    "                                                 color_mode=\"grayscale\")"
   ],
   "outputs": [
    {
     "output_type": "stream",
     "name": "stdout",
     "text": [
      "Found 12123 images belonging to 3 classes.\n",
      "Found 3030 images belonging to 3 classes.\n",
      "[0 0 0 ... 2 2 2]\n"
     ]
    }
   ],
   "metadata": {}
  },
  {
   "cell_type": "markdown",
   "source": [
    "# =============================================================================\n",
    "# Model 1\n",
    "# ============================================================================="
   ],
   "metadata": {}
  },
  {
   "cell_type": "code",
   "execution_count": null,
   "source": [
    "# initializing the CNN\n",
    "model = Sequential()\n",
    "# Convolution layer-1\n",
    "model.add(Conv2D(32, (3, 3), activation='relu', input_shape=(256, 256, 1)))\n",
    "model.add(BatchNormalization())\n",
    "model.add(MaxPooling2D(pool_size=(2, 2)))\n",
    "model.add(Dropout(0.25))\n",
    "# Convolution layer-2\n",
    "model.add(Conv2D(64, (3, 3), activation='relu'))\n",
    "model.add(BatchNormalization())\n",
    "model.add(MaxPooling2D(pool_size=(2, 2)))\n",
    "model.add(Dropout(0.25))\n",
    "# Convolution layer-3\n",
    "model.add(Conv2D(128, (3, 3), activation='relu'))\n",
    "model.add(BatchNormalization())\n",
    "model.add(MaxPooling2D(pool_size=(2, 2)))\n",
    "model.add(Dropout(0.25))\n",
    "# flattening layer\n",
    "model.add(Flatten())\n",
    "model.add(Dense(512, activation='relu'))\n",
    "model.add(BatchNormalization())\n",
    "model.add(Dropout(0.5))\n",
    "# Output layer\n",
    "model.add(Dense(const.NUM_CATEGORY, activation='softmax')) # because we have 3 classes\n",
    "\n",
    "model.compile(loss='categorical_crossentropy', optimizer='rmsprop', metrics=['accuracy'])\n",
    "model.summary()"
   ],
   "outputs": [],
   "metadata": {}
  },
  {
   "cell_type": "code",
   "execution_count": null,
   "source": [
    "# A callback is a set of functions to be applied at given stages of the training procedure. You can use callbacks to get a view on internal states and statistics of the model during training.\n",
    "\n",
    "# To avoid overfitting. Stop if no improvement in epochs\n",
    "early_stopping = EarlyStopping(monitor = 'val_loss',\n",
    "                          mode = 'min',\n",
    "                          patience=100,\n",
    "                          verbose = 1,\n",
    "                          restore_best_weights = True)\n",
    "\n",
    "# Save model after every epoch\n",
    "model_check_point = keras.callbacks.ModelCheckpoint(filepath=const.get_temp_model_path(\"model1\"),\n",
    "                             monitor='val_loss',\n",
    "                             mode='min',\n",
    "                             save_best_only=True,\n",
    "                             verbose=1)\n",
    "\n",
    "# Reduce learning rate \n",
    "learning_rate_reduction = ReduceLROnPlateau(monitor='val_accuracy', \n",
    "                                            patience=2, \n",
    "                                            verbose=1, \n",
    "                                            factor=0.5, \n",
    "                                            min_lr=0.00001)\n",
    "callbacks = [early_stopping , model_check_point, learning_rate_reduction]"
   ],
   "outputs": [],
   "metadata": {}
  },
  {
   "cell_type": "code",
   "execution_count": null,
   "source": [
    "classifier = model.fit(train_dataset, \n",
    "                    steps_per_epoch=len(train_dataset) // const.BATCH_SIZE,\n",
    "                    validation_steps=len(valid_dataset) // const.BATCH_SIZE,\n",
    "                    validation_data=valid_dataset, \n",
    "                    epochs=const.EPOCHS,\n",
    "                    callbacks=[callbacks],\n",
    "                    verbose=1)"
   ],
   "outputs": [],
   "metadata": {}
  },
  {
   "cell_type": "code",
   "execution_count": null,
   "source": [
    "\n",
    "y_pred = model.predict(valid_dataset)"
   ],
   "outputs": [],
   "metadata": {}
  },
  {
   "cell_type": "code",
   "execution_count": null,
   "source": [
    "print(classifier.history[\"accuracy\"])"
   ],
   "outputs": [],
   "metadata": {}
  },
  {
   "cell_type": "code",
   "execution_count": null,
   "source": [
    "model.save(const.get_model_path(\"model1\"))"
   ],
   "outputs": [],
   "metadata": {}
  },
  {
   "cell_type": "code",
   "execution_count": null,
   "source": [
    "fig, (ax1, ax2) = plt.subplots(2, 1, figsize=(12, 12))\n",
    "\n",
    "# plot graph of training loss & validation loss\n",
    "ax1.plot(classifier.history['loss'], color='b', label=\"Training loss\")\n",
    "ax1.plot(classifier.history['val_loss'], color='r', label=\"validation loss\")\n",
    "ax1.set_xticks(np.arange(1, 30, 1))\n",
    "ax1.set_yticks(np.arange(0, 1, 0.1))\n",
    "ax1.set_xlabel(\"epochs\")\n",
    "ax1.set_ylabel(\"loss\")\n",
    "ax1.set_title(\"Graph of training loss & validation loss\")\n",
    "\n",
    "# plot graph of training accuracy & validation accuracy\n",
    "ax2.plot(classifier.history['accuracy'], color='b', label=\"Training accuracy\")\n",
    "ax2.plot(classifier.history['val_accuracy'], color='r',label=\"Validation accuracy\")\n",
    "ax2.set_xticks(np.arange(1, 30, 1))\n",
    "ax1.set_xlabel(\"epochs\")\n",
    "ax1.set_ylabel(\"accuracy\")\n",
    "ax1.set_title(\"Graph of training accuracy & validation accuracy\")\n",
    "\n",
    "legend = plt.legend(loc='best', shadow=True)\n",
    "plt.tight_layout()\n",
    "plt.show()"
   ],
   "outputs": [],
   "metadata": {}
  },
  {
   "cell_type": "markdown",
   "source": [
    "# =============================================================================\n",
    "# Model 2\n",
    "# =============================================================================\n"
   ],
   "metadata": {}
  },
  {
   "cell_type": "code",
   "execution_count": null,
   "source": [
    "model_two = Sequential()\n",
    "# Convolution layer-1\n",
    "model_two.add(Conv2D(32, (3, 3), activation='relu', input_shape=(256, 256, 1)))\n",
    "model_two.add(MaxPooling2D(pool_size=(2, 2)))\n",
    "\n",
    "# Convolution layer-2\n",
    "model_two.add(Conv2D(64, (3, 3), activation='relu'))\n",
    "model_two.add(MaxPooling2D(pool_size=(2, 2)))\n",
    "\n",
    "# Convolution layer-3\n",
    "model_two.add(Conv2D(128, (3, 3), activation='relu'))\n",
    "model_two.add(MaxPooling2D(pool_size=(2, 2)))\n",
    "\n",
    "# Convolution layer-4\n",
    "model_two.add(Conv2D(256, (3, 3), activation='relu'))\n",
    "model_two.add(MaxPooling2D(pool_size=(2, 2)))\n",
    "\n",
    "# flattening layer\n",
    "model_two.add(Flatten())\n",
    "model_two.add(Dense(256, activation='relu'))\n",
    "\n",
    "# Output layer\n",
    "model_two.add(Dense(const.NUM_CATEGORY, activation='sigmoid'))\n",
    "\n",
    "model_two.compile(loss='categorical_crossentropy', optimizer='rmsprop', metrics=['accuracy'])\n",
    "model_two.summary()"
   ],
   "outputs": [],
   "metadata": {}
  },
  {
   "cell_type": "code",
   "execution_count": null,
   "source": [
    "# To avoid overfitting. Stop if no improvement in epochs\n",
    "early_stopping_2 = EarlyStopping(monitor = 'loss',\n",
    "                          mode = 'min',\n",
    "                          patience=10,\n",
    "                          verbose = 1,\n",
    "                          restore_best_weights = True)\n",
    "\n",
    "# Save model after every epoch\n",
    "model_check_point_2 = keras.callbacks.ModelCheckpoint(filepath=const.get_temp_model_path(\"model2\"),\n",
    "                             monitor='val_loss',\n",
    "                             mode='min',\n",
    "                             save_best_only=True,\n",
    "                             verbose=1)\n",
    "\n",
    "# Reduce learning rate \n",
    "learning_rate_reduction_2 = ReduceLROnPlateau(monitor='val_accuracy', \n",
    "                                            patience=4, \n",
    "                                            verbose=1, \n",
    "                                            factor=0.2, \n",
    "                                            min_lr=0.001)\n",
    "callbacks_2 = [early_stopping_2 , model_check_point_2, learning_rate_reduction_2]"
   ],
   "outputs": [],
   "metadata": {}
  },
  {
   "cell_type": "code",
   "execution_count": null,
   "source": [
    "classifier2 = model_two.fit(train_dataset, \n",
    "                    steps_per_epoch=len(train_dataset) // const.BATCH_SIZE,\n",
    "                    validation_steps=len(valid_dataset) // const.BATCH_SIZE,\n",
    "                    validation_data=valid_dataset, \n",
    "                    epochs=const.EPOCHS,\n",
    "                    callbacks=[callbacks_2],\n",
    "                    verbose=1)"
   ],
   "outputs": [],
   "metadata": {}
  },
  {
   "cell_type": "code",
   "execution_count": null,
   "source": [
    "\n",
    "y_pred2 = model_two.predict(valid_dataset)"
   ],
   "outputs": [],
   "metadata": {}
  },
  {
   "cell_type": "code",
   "execution_count": null,
   "source": [
    "model_two.save(const.get_model_path(\"model2\"))"
   ],
   "outputs": [],
   "metadata": {}
  },
  {
   "cell_type": "code",
   "execution_count": null,
   "source": [
    "fig, (ax1, ax2) = plt.subplots(2, 1, figsize=(12, 12))\n",
    "\n",
    "# plot graph of training loss & validation loss\n",
    "ax1.plot(classifier2.history['loss'], color='b', label=\"Training loss\")\n",
    "ax1.plot(classifier2.history['val_loss'], color='r', label=\"validation loss\")\n",
    "ax1.set_xticks(np.arange(1, 30, 1))\n",
    "ax1.set_yticks(np.arange(0, 1, 0.1))\n",
    "ax1.set_xlabel(\"epochs\")\n",
    "ax1.set_ylabel(\"loss\")\n",
    "ax1.set_title(\"Graph of training loss & validation loss\")\n",
    "\n",
    "# plot graph of training accuracy & validation accuracy\n",
    "ax2.plot(classifier2.history['accuracy'], color='b', label=\"Training accuracy\")\n",
    "ax2.plot(classifier2.history['val_accuracy'], color='r',label=\"Validation accuracy\")\n",
    "ax2.set_xticks(np.arange(1, 30, 1))\n",
    "ax1.set_xlabel(\"epochs\")\n",
    "ax1.set_ylabel(\"accuracy\")\n",
    "ax1.set_title(\"Graph of training accuracy & validation accuracy\")\n",
    "\n",
    "legend = plt.legend(loc='best', shadow=True)\n",
    "plt.tight_layout()\n",
    "plt.show()"
   ],
   "outputs": [],
   "metadata": {}
  },
  {
   "cell_type": "markdown",
   "source": [
    "# =============================================================================\n",
    "# Model 3\n",
    "# ============================================================================="
   ],
   "metadata": {}
  },
  {
   "cell_type": "code",
   "execution_count": null,
   "source": [
    "# Model 3\n",
    "model_three = Sequential()\n",
    "\n",
    "# Convolution layer-1\n",
    "model_three.add(Conv2D(32, kernel_size=(3, 3),activation='relu',padding = 'Same',input_shape=(256, 256, 1)))\n",
    "model_three.add(BatchNormalization())\n",
    "\n",
    "# Convolution layer-2\n",
    "model_three.add(Conv2D(64, (3, 3), activation='relu',padding = 'Same'))\n",
    "# model3.add(BatchNormalization())\n",
    "model_three.add(MaxPooling2D(pool_size = (2, 2)))\n",
    "model_three.add(Dropout(0.25))\n",
    "\n",
    "# Convolution layer-3\n",
    "model_three.add(Conv2D(64, (3, 3), activation='relu',padding = 'Same'))\n",
    "model_three.add(BatchNormalization())\n",
    "\n",
    "# Convolution layer-4\n",
    "model_three.add(Conv2D(64, (3, 3), activation='relu',padding = 'Same'))\n",
    "# model3.add(BatchNormalization())\n",
    "model_three.add(AveragePooling2D(pool_size=(2, 2)))\n",
    "model_three.add(Dropout(0.25))\n",
    "\n",
    "# Convolution layer-5\n",
    "model_three.add(Conv2D(64, (3, 3), activation='relu',padding = 'Same'))\n",
    "# model3.add(BatchNormalization())\n",
    "model_three.add(MaxPooling2D(pool_size = (2, 2)))\n",
    "model_three.add(Dropout(0.25))\n",
    "\n",
    "# Convolution layer-6\n",
    "model_three.add(Conv2D(64, (3, 3), activation='relu',padding = 'Same'))\n",
    "model_three.add(BatchNormalization())\n",
    "\n",
    "# Convolution layer-7\n",
    "model_three.add(Conv2D(64, (3, 3), activation='relu',padding = 'Same'))\n",
    "model_three.add(BatchNormalization())\n",
    "model_three.add(AveragePooling2D(pool_size=(2, 2)))\n",
    "model_three.add(Dropout(0.25))\n",
    "\n",
    "# flattening layer\n",
    "model_three.add(Flatten())\n",
    "model_three.add(BatchNormalization())\n",
    "model_three.add(Dense(128, activation='relu'))\n",
    "model_three.add(Activation('relu'))\n",
    "model_three.add(Dropout(0.25))\n",
    "\n",
    "# Output layer\n",
    "model_three.add(BatchNormalization())\n",
    "model_three.add(Dense(const.NUM_CATEGORY, activation='softmax'))\n",
    "model_three.compile(optimizer=Adam(learning_rate=0.005), loss='categorical_crossentropy', metrics=[Recall()])\n",
    "model_three.summary()"
   ],
   "outputs": [],
   "metadata": {}
  },
  {
   "cell_type": "code",
   "execution_count": null,
   "source": [
    "early_stopping_3 = EarlyStopping(monitor='val_loss',\n",
    "                               mode = 'min',\n",
    "                               patience=5,\n",
    "                               verbose=1)\n",
    "\n",
    "# Save model after every epoch\n",
    "model_check_point_3 = keras.callbacks.ModelCheckpoint(filepath=const.get_temp_model_path(\"model3\"),\n",
    "                             monitor='loss',\n",
    "                             mode='min',\n",
    "                             save_best_only=True,\n",
    "                             verbose=1)\n",
    "\n",
    "# Reduce learning rate \n",
    "learning_rate_reduction_3 = ReduceLROnPlateau(monitor='val_recall_3', \n",
    "                                            patience=2, \n",
    "                                            verbose=1, \n",
    "                                            factor=0.5, \n",
    "                                            min_lr=0.00001)\n",
    "\n",
    "callbacks_3 = [early_stopping_3 , model_check_point_3, learning_rate_reduction_3]"
   ],
   "outputs": [],
   "metadata": {}
  },
  {
   "cell_type": "code",
   "execution_count": null,
   "source": [
    "classifier3 = model_three.fit(train_dataset, \n",
    "                    steps_per_epoch=len(train_dataset) // const.BATCH_SIZE,\n",
    "                    validation_steps=len(valid_dataset) // const.BATCH_SIZE,\n",
    "                    validation_data=valid_dataset, \n",
    "                    epochs=const.EPOCHS,\n",
    "                    callbacks=[callbacks_3],\n",
    "                    verbose=1)"
   ],
   "outputs": [],
   "metadata": {}
  },
  {
   "cell_type": "code",
   "execution_count": null,
   "source": [
    "\n",
    "y_pred3 = model_three.predict(valid_dataset)"
   ],
   "outputs": [],
   "metadata": {}
  },
  {
   "cell_type": "code",
   "execution_count": null,
   "source": [
    "model_two.save(const.get_model_path(\"model3\"))"
   ],
   "outputs": [],
   "metadata": {}
  },
  {
   "cell_type": "code",
   "execution_count": null,
   "source": [
    "fig, (ax1, ax2) = plt.subplots(2, 1, figsize=(12, 12))\n",
    "\n",
    "# plot graph of training loss & validation loss\n",
    "ax1.plot(classifier3.history['loss'], color='b', label=\"Training loss\")\n",
    "ax1.plot(classifier3.history['val_loss'], color='r', label=\"validation loss\")\n",
    "ax1.set_xticks(np.arange(1, 30, 1))\n",
    "ax1.set_yticks(np.arange(0, 1, 0.1))\n",
    "ax1.set_xlabel(\"epochs\")\n",
    "ax1.set_ylabel(\"loss\")\n",
    "ax1.set_title(\"Graph of training loss & validation loss\")\n",
    "\n",
    "# plot graph of training accuracy & validation accuracy\n",
    "ax2.plot(classifier3.history['recall_2'], color='b', label=\"Training accuracy\")\n",
    "ax2.plot(classifier3.history['val_recall_2'], color='r',label=\"Validation accuracy\")\n",
    "ax2.set_xticks(np.arange(1, 30, 1))\n",
    "ax1.set_xlabel(\"epochs\")\n",
    "ax1.set_ylabel(\"accuracy\")\n",
    "ax1.set_title(\"Graph of training accuracy & validation accuracy\")\n",
    "\n",
    "legend = plt.legend(loc='best', shadow=True)\n",
    "plt.tight_layout()\n",
    "plt.show()"
   ],
   "outputs": [],
   "metadata": {}
  },
  {
   "cell_type": "markdown",
   "source": [
    "# =============================================================================\n",
    "# VGG16 Model\n",
    "# =============================================================================\n",
    "\n",
    "https://www.kaggle.com/subhanjanbasu/dogs-cats-classifier-using-vgg16-and-densenet201\n",
    "\n",
    "https://www.kaggle.com/abhaymudgal/dogs-vs-cats\n",
    "\n",
    "https://keras.io/api/applications/vgg/\n",
    "\n",
    "https://keras.io/api/applications/#usage-examples-for-image-classification-models"
   ],
   "metadata": {}
  },
  {
   "cell_type": "code",
   "execution_count": 109,
   "source": [
    "image_generator = ImageDataGenerator(rescale=1/255, validation_split=0.2)    \n",
    "\n",
    "train_dataset_vgg = image_generator.flow_from_directory(\n",
    "                                                 directory=const.DATA_DIR,\n",
    "                                                 shuffle=True,\n",
    "                                                 target_size=(256, 256), \n",
    "                                                 batch_size=32,\n",
    "                                                 subset=\"training\",\n",
    "                                                 class_mode='categorical',\n",
    "                                                 classes=const.LABELS,\n",
    "                                                 color_mode=\"rgb\")\n",
    "\n",
    "valid_dataset_vgg = image_generator.flow_from_directory(\n",
    "                                                 directory=const.DATA_DIR,\n",
    "                                                 shuffle=True,\n",
    "                                                 target_size=(256, 256), \n",
    "                                                 batch_size=32,\n",
    "                                                 subset=\"validation\",\n",
    "                                                 class_mode='categorical',\n",
    "                                                 classes=const.LABELS,\n",
    "                                                 color_mode=\"rgb\")"
   ],
   "outputs": [
    {
     "output_type": "stream",
     "name": "stdout",
     "text": [
      "Found 12123 images belonging to 3 classes.\n",
      "Found 3030 images belonging to 3 classes.\n"
     ]
    }
   ],
   "metadata": {}
  },
  {
   "cell_type": "code",
   "execution_count": 110,
   "source": [
    "base_conv = VGG16(weights='imagenet',\n",
    "                 include_top=False,\n",
    "                 input_tensor= Input(shape=(256,256, 3))\n",
    "                )\n",
    "base_conv.summary()"
   ],
   "outputs": [
    {
     "output_type": "stream",
     "name": "stdout",
     "text": [
      "Model: \"vgg16\"\n",
      "_________________________________________________________________\n",
      "Layer (type)                 Output Shape              Param #   \n",
      "=================================================================\n",
      "input_10 (InputLayer)        [(None, 256, 256, 3)]     0         \n",
      "_________________________________________________________________\n",
      "block1_conv1 (Conv2D)        (None, 256, 256, 64)      1792      \n",
      "_________________________________________________________________\n",
      "block1_conv2 (Conv2D)        (None, 256, 256, 64)      36928     \n",
      "_________________________________________________________________\n",
      "block1_pool (MaxPooling2D)   (None, 128, 128, 64)      0         \n",
      "_________________________________________________________________\n",
      "block2_conv1 (Conv2D)        (None, 128, 128, 128)     73856     \n",
      "_________________________________________________________________\n",
      "block2_conv2 (Conv2D)        (None, 128, 128, 128)     147584    \n",
      "_________________________________________________________________\n",
      "block2_pool (MaxPooling2D)   (None, 64, 64, 128)       0         \n",
      "_________________________________________________________________\n",
      "block3_conv1 (Conv2D)        (None, 64, 64, 256)       295168    \n",
      "_________________________________________________________________\n",
      "block3_conv2 (Conv2D)        (None, 64, 64, 256)       590080    \n",
      "_________________________________________________________________\n",
      "block3_conv3 (Conv2D)        (None, 64, 64, 256)       590080    \n",
      "_________________________________________________________________\n",
      "block3_pool (MaxPooling2D)   (None, 32, 32, 256)       0         \n",
      "_________________________________________________________________\n",
      "block4_conv1 (Conv2D)        (None, 32, 32, 512)       1180160   \n",
      "_________________________________________________________________\n",
      "block4_conv2 (Conv2D)        (None, 32, 32, 512)       2359808   \n",
      "_________________________________________________________________\n",
      "block4_conv3 (Conv2D)        (None, 32, 32, 512)       2359808   \n",
      "_________________________________________________________________\n",
      "block4_pool (MaxPooling2D)   (None, 16, 16, 512)       0         \n",
      "_________________________________________________________________\n",
      "block5_conv1 (Conv2D)        (None, 16, 16, 512)       2359808   \n",
      "_________________________________________________________________\n",
      "block5_conv2 (Conv2D)        (None, 16, 16, 512)       2359808   \n",
      "_________________________________________________________________\n",
      "block5_conv3 (Conv2D)        (None, 16, 16, 512)       2359808   \n",
      "_________________________________________________________________\n",
      "block5_pool (MaxPooling2D)   (None, 8, 8, 512)         0         \n",
      "=================================================================\n",
      "Total params: 14,714,688\n",
      "Trainable params: 14,714,688\n",
      "Non-trainable params: 0\n",
      "_________________________________________________________________\n"
     ]
    }
   ],
   "metadata": {}
  },
  {
   "cell_type": "code",
   "execution_count": 111,
   "source": [
    "base_conv.trainable = False"
   ],
   "outputs": [],
   "metadata": {}
  },
  {
   "cell_type": "code",
   "execution_count": 112,
   "source": [
    "vgg_model = Sequential()\n",
    "vgg_model.add(base_conv)\n",
    "\n",
    "# Flatten layer\n",
    "vgg_model.add(Flatten())\n",
    "vgg_model.add(Dense(256, activation='relu'))\n",
    "\n",
    "# Create new model on top.\n",
    "inputs = keras.Input(shape=(256, 256, 3))\n",
    "x = vgg_model(inputs, training=False)\n",
    "outputs = keras.layers.Dense(3)(x)\n",
    "model_vgg = keras.Model(inputs, outputs)\n",
    "\n",
    "\n",
    "model_vgg.compile(loss='categorical_crossentropy',\n",
    "             optimizer = keras.optimizers.Adam(),\n",
    "             metrics = ['acc'])\n",
    "model_vgg.summary()"
   ],
   "outputs": [
    {
     "output_type": "stream",
     "name": "stdout",
     "text": [
      "Model: \"model_2\"\n",
      "_________________________________________________________________\n",
      "Layer (type)                 Output Shape              Param #   \n",
      "=================================================================\n",
      "input_11 (InputLayer)        [(None, 256, 256, 3)]     0         \n",
      "_________________________________________________________________\n",
      "sequential_14 (Sequential)   (None, 256)               23103552  \n",
      "_________________________________________________________________\n",
      "dense_26 (Dense)             (None, 3)                 771       \n",
      "=================================================================\n",
      "Total params: 23,104,323\n",
      "Trainable params: 8,389,635\n",
      "Non-trainable params: 14,714,688\n",
      "_________________________________________________________________\n"
     ]
    }
   ],
   "metadata": {}
  },
  {
   "cell_type": "code",
   "execution_count": 113,
   "source": [
    "early_stopping_vgg = EarlyStopping(monitor='acc',\n",
    "                                 patience=2,\n",
    "                                 verbose=1)\n",
    "# Save model after every epoch\n",
    "model_check_point_vgg = keras.callbacks.ModelCheckpoint(filepath=const.get_temp_model_path(\"model_vgg\"),\n",
    "                             monitor='loss',\n",
    "                             mode='min',\n",
    "                             save_best_only=True,\n",
    "                             verbose=1)\n",
    "\n",
    "callbacks_vgg = [early_stopping_vgg , model_check_point_vgg]"
   ],
   "outputs": [],
   "metadata": {}
  },
  {
   "cell_type": "code",
   "execution_count": 114,
   "source": [
    "classifier_vgg = model_vgg.fit(train_dataset, \n",
    "                    steps_per_epoch=len(train_dataset) // const.BATCH_SIZE,\n",
    "                    validation_steps=len(valid_dataset) // const.BATCH_SIZE,\n",
    "                    validation_data=valid_dataset, \n",
    "                    epochs=const.EPOCHS,\n",
    "                    callbacks=[callbacks_vgg],\n",
    "                    verbose=1)"
   ],
   "outputs": [
    {
     "output_type": "stream",
     "name": "stdout",
     "text": [
      "Epoch 1/20\n",
      "23/23 [==============================] - 496s 22s/step - loss: 1.9503 - acc: 0.1778 - val_loss: 0.8724 - val_acc: 0.0938\n",
      "\n",
      "Epoch 00001: loss improved from inf to 1.22340, saving model to ../model/model_vgg_temp.h5\n",
      "Epoch 2/20\n",
      "23/23 [==============================] - 649s 29s/step - loss: 0.8157 - acc: 0.0632 - val_loss: 0.7590 - val_acc: 0.0875\n",
      "\n",
      "Epoch 00002: loss improved from 1.22340 to 0.76963, saving model to ../model/model_vgg_temp.h5\n",
      "Epoch 3/20\n",
      "23/23 [==============================] - 766s 34s/step - loss: 0.6498 - acc: 0.0886 - val_loss: 0.5315 - val_acc: 0.1000\n",
      "\n",
      "Epoch 00003: loss improved from 0.76963 to 0.62938, saving model to ../model/model_vgg_temp.h5\n",
      "Epoch 00003: early stopping\n"
     ]
    }
   ],
   "metadata": {}
  },
  {
   "cell_type": "code",
   "execution_count": 116,
   "source": [
    "\n",
    "y_pred_vgg = model_vgg.predict(valid_dataset)"
   ],
   "outputs": [],
   "metadata": {}
  },
  {
   "cell_type": "code",
   "execution_count": 117,
   "source": [
    "model_vgg.save(const.get_model_path(\"model_vgg\"))"
   ],
   "outputs": [],
   "metadata": {}
  },
  {
   "cell_type": "code",
   "execution_count": 119,
   "source": [
    "classifier_vgg.history"
   ],
   "outputs": [
    {
     "output_type": "execute_result",
     "data": {
      "text/plain": [
       "{'loss': [1.2234021425247192, 0.769631028175354, 0.6293797492980957],\n",
       " 'acc': [0.10869564861059189, 0.075239397585392, 0.09646739065647125],\n",
       " 'val_loss': [0.8724403381347656, 0.7590339779853821, 0.5315092206001282],\n",
       " 'val_acc': [0.09375, 0.08749999850988388, 0.10000000149011612]}"
      ]
     },
     "metadata": {},
     "execution_count": 119
    }
   ],
   "metadata": {}
  },
  {
   "cell_type": "code",
   "execution_count": 120,
   "source": [
    "fig, (ax1, ax2) = plt.subplots(2, 1, figsize=(12, 12))\n",
    "\n",
    "# plot graph of training loss & validation loss\n",
    "ax1.plot(classifier_vgg.history['loss'], color='b', label=\"Training loss\")\n",
    "ax1.plot(classifier_vgg.history['val_loss'], color='r', label=\"validation loss\")\n",
    "ax1.set_xticks(np.arange(1, 30, 1))\n",
    "ax1.set_yticks(np.arange(0, 1, 0.1))\n",
    "ax1.set_xlabel(\"epochs\")\n",
    "ax1.set_ylabel(\"loss\")\n",
    "ax1.set_title(\"Graph of training loss & validation loss\")\n",
    "\n",
    "# plot graph of training accuracy & validation accuracy\n",
    "ax2.plot(classifier_vgg.history['acc'], color='b', label=\"Training accuracy\")\n",
    "ax2.plot(classifier_vgg.history['val_acc'], color='r',label=\"Validation accuracy\")\n",
    "ax2.set_xticks(np.arange(1, 30, 1))\n",
    "ax1.set_xlabel(\"epochs\")\n",
    "ax1.set_ylabel(\"accuracy\")\n",
    "ax1.set_title(\"Graph of training accuracy & validation accuracy\")\n",
    "\n",
    "legend = plt.legend(loc='best', shadow=True)\n",
    "plt.tight_layout()\n",
    "plt.show()"
   ],
   "outputs": [
    {
     "output_type": "display_data",
     "data": {
      "text/plain": [
       "<Figure size 864x864 with 2 Axes>"
      ],
      "image/png": "[encoded data removed]"
     },
     "metadata": {
      "needs_background": "light"
     }
    }
   ],
   "metadata": {}
  },
  {
   "cell_type": "markdown",
   "source": [
    "# =============================================================================\n",
    "# DenseNet\n",
    "# =============================================================================\n",
    "\n",
    "https://arxiv.org/abs/1608.06993"
   ],
   "metadata": {}
  }
 ]
}